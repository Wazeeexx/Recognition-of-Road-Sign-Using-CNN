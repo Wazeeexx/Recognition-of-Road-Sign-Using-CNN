{
 "cells": [
  {
   "cell_type": "code",
   "execution_count": 9,
   "metadata": {
    "id": "qBb-YNIQCi0I"
   },
   "outputs": [
    {
     "name": "stdout",
     "output_type": "stream",
     "text": [
      "['Crosswalk', 'No Parking', 'Stop', 'Turn Left', 'Turn Right']\n"
     ]
    }
   ],
   "source": [
    "# Load modules\n",
    "import numpy as np\n",
    "import os\n",
    "import PIL\n",
    "import tensorflow as tf\n",
    "import pathlib\n",
    "\n",
    "# Global configuration\n",
    "PATH = 'train'\n",
    "class_names = os.listdir(PATH)\n",
    "data_dir = pathlib.Path( PATH )\n",
    "batch_size = 32\n",
    "image_size = 50\n",
    "num_classes = len(class_names)\n",
    "validation_split = 0.1\n",
    "\n",
    "print(class_names)"
   ]
  },
  {
   "cell_type": "code",
   "execution_count": 10,
   "metadata": {
    "colab": {
     "base_uri": "https://localhost:8080/"
    },
    "id": "m-2PR2zHEn4o",
    "outputId": "fb143424-f4a5-46c2-cd8d-524acc55ce2a"
   },
   "outputs": [
    {
     "name": "stdout",
     "output_type": "stream",
     "text": [
      "Found 849 files belonging to 5 classes.\n",
      "Using 765 files for training.\n",
      "Found 849 files belonging to 5 classes.\n",
      "Using 84 files for validation.\n"
     ]
    }
   ],
   "source": [
    "# Create the dataset for training\n",
    "train_ds = tf.keras.preprocessing.image_dataset_from_directory(\n",
    "    data_dir,\n",
    "    labels=\"inferred\",\n",
    "    validation_split = validation_split,\n",
    "    subset = \"training\",\n",
    "    seed = 123,\n",
    "    shuffle = True,\n",
    "    image_size = (image_size, image_size),\n",
    "    batch_size = batch_size\n",
    ")\n",
    "\n",
    "# Create the dataset for validation\n",
    "val_ds = tf.keras.preprocessing.image_dataset_from_directory(\n",
    "    data_dir,\n",
    "    labels=\"inferred\",\n",
    "    validation_split = validation_split,\n",
    "    subset = \"validation\",\n",
    "    seed = 123,\n",
    "    image_size = (image_size, image_size),\n",
    "    batch_size = batch_size\n",
    ")\n",
    "\n",
    "# cache\n",
    "train_ds  = train_ds.cache().prefetch(buffer_size = tf.data.AUTOTUNE)\n",
    "val_ds    = val_ds.cache().prefetch(buffer_size = tf.data.AUTOTUNE)"
   ]
  },
  {
   "cell_type": "markdown",
   "metadata": {
    "id": "I3_qJZ7llb1J"
   },
   "source": [
    "### Custom built CNN"
   ]
  },
  {
   "cell_type": "code",
   "execution_count": 11,
   "metadata": {
    "colab": {
     "base_uri": "https://localhost:8080/"
    },
    "id": "ClHMt2INXXY2",
    "outputId": "58f89876-eddb-4534-d697-9fb09bdaef7b"
   },
   "outputs": [
    {
     "name": "stdout",
     "output_type": "stream",
     "text": [
      "Epoch 1/50\n",
      "24/24 [==============================] - 4s 89ms/step - loss: 2.6488 - accuracy: 0.2758 - val_loss: 1.9193 - val_accuracy: 0.2381\n",
      "Epoch 2/50\n",
      "24/24 [==============================] - 1s 54ms/step - loss: 1.3210 - accuracy: 0.4235 - val_loss: 1.8960 - val_accuracy: 0.2976\n",
      "Epoch 3/50\n",
      "24/24 [==============================] - 1s 58ms/step - loss: 1.2036 - accuracy: 0.4797 - val_loss: 2.0730 - val_accuracy: 0.3333\n",
      "Epoch 4/50\n",
      "24/24 [==============================] - 1s 57ms/step - loss: 1.0797 - accuracy: 0.5281 - val_loss: 0.9850 - val_accuracy: 0.6429\n",
      "Epoch 5/50\n",
      "24/24 [==============================] - 1s 59ms/step - loss: 0.9957 - accuracy: 0.6000 - val_loss: 1.0420 - val_accuracy: 0.6429\n",
      "Epoch 6/50\n",
      "24/24 [==============================] - 2s 64ms/step - loss: 0.9271 - accuracy: 0.6353 - val_loss: 0.9200 - val_accuracy: 0.6667\n",
      "Epoch 7/50\n",
      "24/24 [==============================] - 2s 63ms/step - loss: 0.8622 - accuracy: 0.6601 - val_loss: 0.6751 - val_accuracy: 0.7738\n",
      "Epoch 8/50\n",
      "24/24 [==============================] - 2s 89ms/step - loss: 0.8248 - accuracy: 0.7007 - val_loss: 0.7989 - val_accuracy: 0.7024\n",
      "Epoch 9/50\n",
      "24/24 [==============================] - 2s 65ms/step - loss: 0.8022 - accuracy: 0.6876 - val_loss: 0.7742 - val_accuracy: 0.6905\n",
      "Epoch 10/50\n",
      "24/24 [==============================] - 2s 79ms/step - loss: 0.8018 - accuracy: 0.7020 - val_loss: 0.6443 - val_accuracy: 0.7500\n",
      "Epoch 11/50\n",
      "24/24 [==============================] - 2s 66ms/step - loss: 0.7788 - accuracy: 0.6993 - val_loss: 0.7053 - val_accuracy: 0.7262\n",
      "Epoch 12/50\n",
      "24/24 [==============================] - 1s 58ms/step - loss: 0.7001 - accuracy: 0.7216 - val_loss: 0.5760 - val_accuracy: 0.7619\n",
      "Epoch 13/50\n",
      "24/24 [==============================] - 1s 60ms/step - loss: 0.6719 - accuracy: 0.7621 - val_loss: 0.5537 - val_accuracy: 0.7976\n",
      "Epoch 14/50\n",
      "24/24 [==============================] - 1s 59ms/step - loss: 0.6874 - accuracy: 0.7516 - val_loss: 0.6331 - val_accuracy: 0.7500\n",
      "Epoch 15/50\n",
      "24/24 [==============================] - 1s 59ms/step - loss: 0.6647 - accuracy: 0.7621 - val_loss: 0.7628 - val_accuracy: 0.7381\n",
      "Epoch 16/50\n",
      "24/24 [==============================] - 1s 59ms/step - loss: 0.6143 - accuracy: 0.7582 - val_loss: 0.5482 - val_accuracy: 0.8095\n",
      "Epoch 17/50\n",
      "24/24 [==============================] - 2s 64ms/step - loss: 0.5868 - accuracy: 0.7739 - val_loss: 0.4579 - val_accuracy: 0.8214\n",
      "Epoch 18/50\n",
      "24/24 [==============================] - 2s 74ms/step - loss: 0.5915 - accuracy: 0.7739 - val_loss: 0.5759 - val_accuracy: 0.8095\n",
      "Epoch 19/50\n",
      "24/24 [==============================] - 2s 63ms/step - loss: 0.7041 - accuracy: 0.7569 - val_loss: 0.7187 - val_accuracy: 0.7976\n",
      "Epoch 20/50\n",
      "24/24 [==============================] - 2s 64ms/step - loss: 0.7130 - accuracy: 0.7542 - val_loss: 0.9369 - val_accuracy: 0.6548\n",
      "Epoch 21/50\n",
      "24/24 [==============================] - 2s 63ms/step - loss: 0.6676 - accuracy: 0.7490 - val_loss: 0.6207 - val_accuracy: 0.7619\n",
      "Epoch 22/50\n",
      "24/24 [==============================] - 1s 61ms/step - loss: 0.6676 - accuracy: 0.7582 - val_loss: 0.5878 - val_accuracy: 0.7619\n",
      "Epoch 23/50\n",
      "24/24 [==============================] - 2s 63ms/step - loss: 0.5618 - accuracy: 0.7987 - val_loss: 0.7239 - val_accuracy: 0.7262\n",
      "Epoch 24/50\n",
      "24/24 [==============================] - 1s 59ms/step - loss: 0.5611 - accuracy: 0.7961 - val_loss: 0.5031 - val_accuracy: 0.8333\n",
      "Epoch 25/50\n",
      "24/24 [==============================] - 1s 60ms/step - loss: 0.4900 - accuracy: 0.8314 - val_loss: 0.5705 - val_accuracy: 0.8095\n",
      "Epoch 26/50\n",
      "24/24 [==============================] - 1s 62ms/step - loss: 0.4379 - accuracy: 0.8471 - val_loss: 0.7647 - val_accuracy: 0.8095\n",
      "Epoch 27/50\n",
      "24/24 [==============================] - 1s 60ms/step - loss: 0.4589 - accuracy: 0.8327 - val_loss: 0.5406 - val_accuracy: 0.8452\n",
      "Epoch 28/50\n",
      "24/24 [==============================] - 1s 61ms/step - loss: 0.3860 - accuracy: 0.8523 - val_loss: 0.7743 - val_accuracy: 0.6905\n",
      "Epoch 29/50\n",
      "24/24 [==============================] - 1s 60ms/step - loss: 0.4271 - accuracy: 0.8444 - val_loss: 0.4545 - val_accuracy: 0.8214\n",
      "Epoch 30/50\n",
      "24/24 [==============================] - 2s 64ms/step - loss: 0.3599 - accuracy: 0.8575 - val_loss: 0.4689 - val_accuracy: 0.8690\n",
      "Epoch 31/50\n",
      "24/24 [==============================] - 2s 69ms/step - loss: 0.3840 - accuracy: 0.8614 - val_loss: 0.5429 - val_accuracy: 0.8571\n",
      "Epoch 32/50\n",
      "24/24 [==============================] - 2s 70ms/step - loss: 0.4267 - accuracy: 0.8549 - val_loss: 0.4124 - val_accuracy: 0.8452\n",
      "Epoch 33/50\n",
      "24/24 [==============================] - 2s 71ms/step - loss: 0.3802 - accuracy: 0.8641 - val_loss: 0.4979 - val_accuracy: 0.8214\n",
      "Epoch 34/50\n",
      "24/24 [==============================] - 2s 68ms/step - loss: 0.3056 - accuracy: 0.8928 - val_loss: 0.3401 - val_accuracy: 0.8571\n",
      "Epoch 35/50\n",
      "24/24 [==============================] - 2s 65ms/step - loss: 0.4064 - accuracy: 0.8667 - val_loss: 0.4631 - val_accuracy: 0.8214\n",
      "Epoch 36/50\n",
      "24/24 [==============================] - 1s 59ms/step - loss: 0.3410 - accuracy: 0.8758 - val_loss: 0.4192 - val_accuracy: 0.8810\n",
      "Epoch 37/50\n",
      "24/24 [==============================] - 1s 60ms/step - loss: 0.3945 - accuracy: 0.8863 - val_loss: 0.3853 - val_accuracy: 0.8095\n",
      "Epoch 38/50\n",
      "24/24 [==============================] - 1s 61ms/step - loss: 0.4232 - accuracy: 0.8575 - val_loss: 0.3490 - val_accuracy: 0.8571\n",
      "Epoch 39/50\n",
      "24/24 [==============================] - 1s 61ms/step - loss: 0.3073 - accuracy: 0.8824 - val_loss: 0.4658 - val_accuracy: 0.8690\n",
      "Epoch 40/50\n",
      "24/24 [==============================] - 1s 57ms/step - loss: 0.3650 - accuracy: 0.8797 - val_loss: 0.6629 - val_accuracy: 0.8810\n",
      "Epoch 41/50\n",
      "24/24 [==============================] - 1s 59ms/step - loss: 0.3854 - accuracy: 0.8667 - val_loss: 0.4096 - val_accuracy: 0.8571\n",
      "Epoch 42/50\n",
      "24/24 [==============================] - 1s 60ms/step - loss: 0.3080 - accuracy: 0.8863 - val_loss: 0.3440 - val_accuracy: 0.8690\n",
      "Epoch 43/50\n",
      "24/24 [==============================] - 1s 59ms/step - loss: 0.2999 - accuracy: 0.8876 - val_loss: 0.3673 - val_accuracy: 0.8571\n",
      "Epoch 44/50\n",
      "24/24 [==============================] - 1s 48ms/step - loss: 0.3611 - accuracy: 0.8837 - val_loss: 0.2647 - val_accuracy: 0.8810\n",
      "Epoch 45/50\n",
      "24/24 [==============================] - 1s 49ms/step - loss: 0.2584 - accuracy: 0.9020 - val_loss: 0.3128 - val_accuracy: 0.8929\n",
      "Epoch 46/50\n",
      "24/24 [==============================] - 1s 49ms/step - loss: 0.3394 - accuracy: 0.9033 - val_loss: 0.3293 - val_accuracy: 0.9048\n",
      "Epoch 47/50\n",
      "24/24 [==============================] - 1s 49ms/step - loss: 0.2828 - accuracy: 0.8980 - val_loss: 0.2931 - val_accuracy: 0.8929\n",
      "Epoch 48/50\n",
      "24/24 [==============================] - 1s 51ms/step - loss: 0.2821 - accuracy: 0.9190 - val_loss: 0.6048 - val_accuracy: 0.8214\n",
      "Epoch 49/50\n",
      "24/24 [==============================] - 1s 60ms/step - loss: 0.2570 - accuracy: 0.9098 - val_loss: 0.4381 - val_accuracy: 0.8810\n",
      "Epoch 50/50\n",
      "24/24 [==============================] - 1s 59ms/step - loss: 0.1499 - accuracy: 0.9425 - val_loss: 0.5436 - val_accuracy: 0.8690\n"
     ]
    }
   ],
   "source": [
    "# Data Augmentation\n",
    "resize_and_rescale = tf.keras.Sequential([\n",
    "  tf.keras.layers.Resizing(image_size, image_size),\n",
    "  tf.keras.layers.Rescaling(1./255)\n",
    "])\n",
    "data_augmentation = tf.keras.Sequential([\n",
    "  tf.keras.layers.RandomFlip(\"horizontal_and_vertical\"),\n",
    "  tf.keras.layers.RandomRotation(0.2),\n",
    "])\n",
    "\n",
    "# Sequential model\n",
    "model = tf.keras.Sequential([\n",
    "    \n",
    "#   resize_and_rescale,\n",
    "#   data_augmentation,\n",
    "    \n",
    "  tf.keras.layers.Conv2D(16, (3, 3), activation='relu'),\n",
    "  tf.keras.layers.BatchNormalization(),\n",
    "  tf.keras.layers.MaxPooling2D(2, 2),\n",
    "\n",
    "  tf.keras.layers.Conv2D(32, (3, 3), activation='relu'),\n",
    "  tf.keras.layers.MaxPooling2D(2, 2),\n",
    "\n",
    "  tf.keras.layers.Conv2D(64, (3, 3), activation='relu'),\n",
    "  tf.keras.layers.MaxPooling2D(2, 2),\n",
    "    \n",
    "  tf.keras.layers.Flatten(),\n",
    "\n",
    "  tf.keras.layers.Dropout(0.5),\n",
    "  tf.keras.layers.Dense(128, activation='relu'),\n",
    "  tf.keras.layers.Dense(num_classes, activation='softmax')\n",
    "])\n",
    "\n",
    "# Compile the model\n",
    "model.compile(\n",
    "            optimizer = tf.keras.optimizers.Adam(0.01),\n",
    "            loss = [tf.keras.losses.SparseCategoricalCrossentropy(),],\n",
    "            metrics=['accuracy'])\n",
    "\n",
    "# Train the model\n",
    "history = model.fit(\n",
    "    train_ds,\n",
    "    validation_data = val_ds,\n",
    "    epochs = 50\n",
    ")"
   ]
  },
  {
   "cell_type": "markdown",
   "metadata": {
    "id": "rt3aPstTPMr3"
   },
   "source": [
    "### Save and Evaluate the Model"
   ]
  },
  {
   "cell_type": "code",
   "execution_count": 12,
   "metadata": {
    "id": "EV9xelVWlDrz"
   },
   "outputs": [
    {
     "data": {
      "image/png": "[encoded data removed]",
      "text/plain": [
       "<Figure size 640x480 with 1 Axes>"
      ]
     },
     "metadata": {},
     "output_type": "display_data"
    },
    {
     "name": "stdout",
     "output_type": "stream",
     "text": [
      "3/3 [==============================] - 0s 33ms/step - loss: 0.5436 - accuracy: 0.8690\n",
      "Test: accuracy = 0.869048  ;  loss = 0.543577 \n"
     ]
    }
   ],
   "source": [
    "# Plotting the trained model\n",
    "import matplotlib.pyplot as plt\n",
    "plt.plot(history.history[\"accuracy\"])\n",
    "plt.plot(history.history['val_accuracy'])\n",
    "plt.plot(history.history['loss'])\n",
    "plt.plot(history.history['val_loss'])\n",
    "plt.title(\"model accuracy\")\n",
    "plt.ylabel(\"Accuracy\")\n",
    "plt.xlabel(\"Epoch\")\n",
    "plt.legend([\"Accuracy\",\"Validation Accuracy\",\"loss\",\"Validation Loss\"])\n",
    "plt.show()\n",
    "\n",
    "loss, accuracy = model.evaluate(val_ds)\n",
    "print(\"Test: accuracy = %f  ;  loss = %f \" % (accuracy, loss))"
   ]
  },
  {
   "cell_type": "markdown",
   "metadata": {
    "id": "qhi5ERadTAzK"
   },
   "source": [
    "### Confusion Matrix"
   ]
  },
  {
   "cell_type": "code",
   "execution_count": 13,
   "metadata": {
    "colab": {
     "base_uri": "https://localhost:8080/"
    },
    "id": "T0d2MDOAFVsv",
    "outputId": "01833cdd-6d6a-4aa0-d7d4-14d208cc84b2",
    "scrolled": true
   },
   "outputs": [
    {
     "name": "stdout",
     "output_type": "stream",
     "text": [
      "1/1 [==============================] - 0s 216ms/step\n",
      "1/1 [==============================] - 0s 34ms/step\n",
      "1/1 [==============================] - 0s 45ms/step\n",
      "1/1 [==============================] - 0s 43ms/step\n",
      "1/1 [==============================] - 0s 41ms/step\n",
      "1/1 [==============================] - 0s 36ms/step\n",
      "1/1 [==============================] - 0s 44ms/step\n",
      "1/1 [==============================] - 0s 68ms/step\n",
      "1/1 [==============================] - 0s 31ms/step\n",
      "1/1 [==============================] - 0s 41ms/step\n",
      "1/1 [==============================] - 0s 46ms/step\n",
      "1/1 [==============================] - 0s 40ms/step\n",
      "1/1 [==============================] - 0s 41ms/step\n",
      "1/1 [==============================] - 0s 37ms/step\n",
      "1/1 [==============================] - 0s 33ms/step\n",
      "1/1 [==============================] - 0s 36ms/step\n",
      "1/1 [==============================] - 0s 37ms/step\n",
      "1/1 [==============================] - 0s 35ms/step\n",
      "1/1 [==============================] - 0s 41ms/step\n",
      "1/1 [==============================] - 0s 36ms/step\n",
      "1/1 [==============================] - 0s 43ms/step\n",
      "1/1 [==============================] - 0s 36ms/step\n",
      "1/1 [==============================] - 0s 37ms/step\n",
      "1/1 [==============================] - 0s 40ms/step\n",
      "1/1 [==============================] - 0s 43ms/step\n",
      "1/1 [==============================] - 0s 36ms/step\n",
      "1/1 [==============================] - 0s 65ms/step\n",
      "1/1 [==============================] - 0s 39ms/step\n",
      "1/1 [==============================] - 0s 43ms/step\n",
      "1/1 [==============================] - 0s 34ms/step\n",
      "1/1 [==============================] - 0s 45ms/step\n",
      "1/1 [==============================] - 0s 42ms/step\n",
      "1/1 [==============================] - 0s 37ms/step\n",
      "1/1 [==============================] - 0s 38ms/step\n",
      "1/1 [==============================] - 0s 38ms/step\n",
      "1/1 [==============================] - 0s 44ms/step\n",
      "1/1 [==============================] - 0s 37ms/step\n",
      "1/1 [==============================] - 0s 43ms/step\n",
      "1/1 [==============================] - 0s 44ms/step\n",
      "1/1 [==============================] - 0s 34ms/step\n",
      "1/1 [==============================] - 0s 35ms/step\n",
      "1/1 [==============================] - 0s 34ms/step\n",
      "1/1 [==============================] - 0s 35ms/step\n",
      "1/1 [==============================] - 0s 31ms/step\n",
      "1/1 [==============================] - 0s 38ms/step\n",
      "1/1 [==============================] - 0s 44ms/step\n",
      "1/1 [==============================] - 0s 45ms/step\n",
      "1/1 [==============================] - 0s 41ms/step\n",
      "1/1 [==============================] - 0s 47ms/step\n",
      "1/1 [==============================] - 0s 38ms/step\n",
      "1/1 [==============================] - 0s 34ms/step\n",
      "1/1 [==============================] - 0s 31ms/step\n",
      "1/1 [==============================] - 0s 30ms/step\n",
      "1/1 [==============================] - 0s 32ms/step\n",
      "1/1 [==============================] - 0s 36ms/step\n",
      "1/1 [==============================] - 0s 33ms/step\n",
      "1/1 [==============================] - 0s 31ms/step\n",
      "1/1 [==============================] - 0s 25ms/step\n",
      "1/1 [==============================] - 0s 42ms/step\n",
      "1/1 [==============================] - 0s 39ms/step\n",
      "1/1 [==============================] - 0s 35ms/step\n",
      "1/1 [==============================] - 0s 35ms/step\n",
      "1/1 [==============================] - 0s 36ms/step\n",
      "1/1 [==============================] - 0s 40ms/step\n",
      "1/1 [==============================] - 0s 35ms/step\n",
      "1/1 [==============================] - 0s 28ms/step\n",
      "1/1 [==============================] - 0s 33ms/step\n",
      "1/1 [==============================] - 0s 30ms/step\n",
      "1/1 [==============================] - 0s 29ms/step\n",
      "1/1 [==============================] - 0s 29ms/step\n",
      "1/1 [==============================] - 0s 33ms/step\n",
      "1/1 [==============================] - 0s 39ms/step\n",
      "1/1 [==============================] - 0s 41ms/step\n",
      "1/1 [==============================] - 0s 61ms/step\n",
      "1/1 [==============================] - 0s 34ms/step\n",
      "1/1 [==============================] - 0s 37ms/step\n",
      "1/1 [==============================] - 0s 32ms/step\n",
      "1/1 [==============================] - 0s 38ms/step\n",
      "1/1 [==============================] - 0s 39ms/step\n",
      "1/1 [==============================] - 0s 40ms/step\n",
      "1/1 [==============================] - 0s 41ms/step\n",
      "1/1 [==============================] - 0s 43ms/step\n",
      "1/1 [==============================] - 0s 43ms/step\n",
      "1/1 [==============================] - 0s 40ms/step\n",
      "1/1 [==============================] - 0s 37ms/step\n",
      "1/1 [==============================] - 0s 41ms/step\n",
      "1/1 [==============================] - 0s 50ms/step\n",
      "1/1 [==============================] - 0s 50ms/step\n",
      "1/1 [==============================] - 0s 43ms/step\n",
      "1/1 [==============================] - 0s 40ms/step\n",
      "1/1 [==============================] - 0s 56ms/step\n",
      "1/1 [==============================] - 0s 37ms/step\n",
      "1/1 [==============================] - 0s 46ms/step\n",
      "1/1 [==============================] - 0s 49ms/step\n",
      "1/1 [==============================] - 0s 36ms/step\n",
      "1/1 [==============================] - 0s 38ms/step\n",
      "1/1 [==============================] - 0s 34ms/step\n",
      "1/1 [==============================] - 0s 35ms/step\n",
      "1/1 [==============================] - 0s 29ms/step\n",
      "1/1 [==============================] - 0s 34ms/step\n",
      "1/1 [==============================] - 0s 33ms/step\n",
      "1/1 [==============================] - 0s 47ms/step\n",
      "1/1 [==============================] - 0s 78ms/step\n",
      "1/1 [==============================] - 0s 37ms/step\n",
      "1/1 [==============================] - 0s 29ms/step\n",
      "1/1 [==============================] - 0s 27ms/step\n",
      "1/1 [==============================] - 0s 30ms/step\n",
      "1/1 [==============================] - 0s 32ms/step\n",
      "1/1 [==============================] - 0s 38ms/step\n",
      "1/1 [==============================] - 0s 36ms/step\n",
      "1/1 [==============================] - 0s 50ms/step\n",
      "1/1 [==============================] - 0s 38ms/step\n",
      "1/1 [==============================] - 0s 33ms/step\n",
      "1/1 [==============================] - 0s 46ms/step\n",
      "1/1 [==============================] - 0s 35ms/step\n",
      "1/1 [==============================] - 0s 28ms/step\n",
      "1/1 [==============================] - 0s 31ms/step\n",
      "1/1 [==============================] - 0s 31ms/step\n",
      "1/1 [==============================] - 0s 27ms/step\n",
      "1/1 [==============================] - 0s 28ms/step\n",
      "1/1 [==============================] - 0s 27ms/step\n",
      "1/1 [==============================] - 0s 31ms/step\n",
      "1/1 [==============================] - 0s 294ms/step\n",
      "1/1 [==============================] - 0s 73ms/step\n",
      "1/1 [==============================] - 0s 56ms/step\n",
      "1/1 [==============================] - 0s 53ms/step\n",
      "1/1 [==============================] - 0s 29ms/step\n",
      "1/1 [==============================] - 0s 32ms/step\n",
      "1/1 [==============================] - 0s 34ms/step\n",
      "1/1 [==============================] - 0s 32ms/step\n",
      "1/1 [==============================] - 0s 33ms/step\n",
      "1/1 [==============================] - 0s 32ms/step\n",
      "1/1 [==============================] - 0s 30ms/step\n",
      "1/1 [==============================] - 0s 42ms/step\n",
      "1/1 [==============================] - 0s 45ms/step\n",
      "1/1 [==============================] - 0s 39ms/step\n",
      "1/1 [==============================] - 0s 37ms/step\n",
      "1/1 [==============================] - 0s 40ms/step\n",
      "1/1 [==============================] - 0s 42ms/step\n",
      "1/1 [==============================] - 0s 67ms/step\n",
      "1/1 [==============================] - 0s 31ms/step\n",
      "1/1 [==============================] - 0s 34ms/step\n",
      "1/1 [==============================] - 0s 38ms/step\n",
      "1/1 [==============================] - 0s 34ms/step\n",
      "1/1 [==============================] - 0s 31ms/step\n",
      "1/1 [==============================] - 0s 32ms/step\n",
      "1/1 [==============================] - 0s 33ms/step\n",
      "1/1 [==============================] - 0s 37ms/step\n",
      "1/1 [==============================] - 0s 46ms/step\n",
      "1/1 [==============================] - 0s 45ms/step\n",
      "Result: 119/150\n",
      "Time elapsed: 17.29890465736389\n",
      "Accuracy based on testing dataset: 0.7933333333333333\n"
     ]
    },
    {
     "data": {
      "image/png": "[encoded data removed]",
      "text/plain": [
       "<Figure size 640x480 with 2 Axes>"
      ]
     },
     "metadata": {},
     "output_type": "display_data"
    }
   ],
   "source": [
    "# Make predictions\n",
    "import random\n",
    "import matplotlib.pyplot as plt\n",
    "from sklearn import metrics\n",
    "from sklearn.metrics import accuracy_score\n",
    "import time\n",
    "\n",
    "predictions_table = []\n",
    "actuals_table = []\n",
    "correct = 0\n",
    "items = 0\n",
    "\n",
    "start_time = time.time()\n",
    "for index, name in enumerate(class_names):\n",
    "    for file in os.listdir(f\"Test/{ name }\"):\n",
    "        img = tf.keras.utils.load_img(f\"Test/{ name }/{ file }\", target_size=(image_size, image_size))\n",
    "        img_array = tf.keras.utils.img_to_array(img)\n",
    "        img_array = tf.expand_dims(img_array, 0)\n",
    "        predictions = model.predict(img_array)\n",
    "        \n",
    "        actuals_table.append(index)\n",
    "        predictions_table.append( np.argmax(predictions) )\n",
    "        if index == np.argmax(predictions):\n",
    "            correct += 1\n",
    "        items += 1\n",
    "end_time = time.time()\n",
    "\n",
    "print(f\"Result: { correct }/{ items }\")\n",
    "print(f\"Time elapsed: { end_time - start_time }\")\n",
    "print(f\"Accuracy based on testing dataset: { accuracy_score(actuals_table, predictions_table) }\")\n",
    "confusion_matrix = metrics.confusion_matrix(actuals_table, predictions_table)\n",
    "cm_display = metrics.ConfusionMatrixDisplay(confusion_matrix = confusion_matrix, display_labels = class_names)\n",
    "cm_display.plot(xticks_rotation='vertical')\n",
    "plt.show() "
   ]
  },
  {
   "cell_type": "markdown",
   "metadata": {},
   "source": [
    "### Model Metrics"
   ]
  },
  {
   "cell_type": "code",
   "execution_count": 14,
   "metadata": {},
   "outputs": [
    {
     "name": "stdout",
     "output_type": "stream",
     "text": [
      "Average f1 score: 0.7956788380701424\n"
     ]
    }
   ],
   "source": [
    "from sklearn.metrics import f1_score\n",
    "\n",
    "f1 = f1_score(predictions_table, actuals_table, average='weighted')\n",
    "\n",
    "print(f\"Average f1 score: { f1 }\")"
   ]
  },
  {
   "cell_type": "markdown",
   "metadata": {},
   "source": [
    "### Save the model"
   ]
  },
  {
   "cell_type": "code",
   "execution_count": 15,
   "metadata": {},
   "outputs": [
    {
     "name": "stderr",
     "output_type": "stream",
     "text": [
      "WARNING:absl:Found untraced functions such as _jit_compiled_convolution_op, _jit_compiled_convolution_op, _jit_compiled_convolution_op while saving (showing 3 of 3). These functions will not be directly callable after loading.\n"
     ]
    },
    {
     "name": "stdout",
     "output_type": "stream",
     "text": [
      "INFO:tensorflow:Assets written to: web/savedModel\\assets\n"
     ]
    },
    {
     "name": "stderr",
     "output_type": "stream",
     "text": [
      "INFO:tensorflow:Assets written to: web/savedModel\\assets\n"
     ]
    }
   ],
   "source": [
    "model.save('web/savedModel')__"
   ]
  },
  {
   "cell_type": "code",
   "execution_count": null,
   "metadata": {},
   "outputs": [],
   "source": []
  }
 ],
 "metadata": {
  "accelerator": "GPU",
  "colab": {
   "collapsed_sections": [
    "I3_qJZ7llb1J"
   ],
   "name": "CNN.ipynb",
   "provenance": []
  },
  "kernelspec": {
   "display_name": "Python 3 (ipykernel)",
   "language": "python",
   "name": "python3"
  },
  "language_info": {
   "codemirror_mode": {
    "name": "ipython",
    "version": 3
   },
   "file_extension": ".py",
   "mimetype": "text/x-python",
   "name": "python",
   "nbconvert_exporter": "python",
   "pygments_lexer": "ipython3",
   "version": "3.10.6"
  }
 },
 "nbformat": 4,
 "nbformat_minor": 1
}
